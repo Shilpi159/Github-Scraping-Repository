{
 "cells": [
  {
   "cell_type": "code",
   "execution_count": 1,
   "id": "72ea872f",
   "metadata": {},
   "outputs": [],
   "source": [
    "import requests\n"
   ]
  },
  {
   "cell_type": "code",
   "execution_count": 2,
   "id": "79e772b4",
   "metadata": {},
   "outputs": [],
   "source": [
    "url=\"https://github.com/topics\""
   ]
  },
  {
   "cell_type": "code",
   "execution_count": 3,
   "id": "b820aca2",
   "metadata": {},
   "outputs": [],
   "source": [
    "#send request\n",
    "response=requests.get(url)"
   ]
  },
  {
   "cell_type": "code",
   "execution_count": 4,
   "id": "8d31e15e",
   "metadata": {},
   "outputs": [
    {
     "data": {
      "text/plain": [
       "200"
      ]
     },
     "execution_count": 4,
     "metadata": {},
     "output_type": "execute_result"
    }
   ],
   "source": [
    "#checking status code\n",
    "response.status_code"
   ]
  },
  {
   "cell_type": "code",
   "execution_count": 5,
   "id": "85321cfe",
   "metadata": {},
   "outputs": [
    {
     "data": {
      "text/plain": [
       "174335"
      ]
     },
     "execution_count": 5,
     "metadata": {},
     "output_type": "execute_result"
    }
   ],
   "source": [
    "len(response.text)"
   ]
  },
  {
   "cell_type": "code",
   "execution_count": 6,
   "id": "11213624",
   "metadata": {},
   "outputs": [
    {
     "data": {
      "text/plain": [
       "'\\n<!DOCTYPE html>\\n<html lang=\"en\" data-color-mode=\"auto\" data-light-theme=\"light\" data-dark-theme=\"dark\">\\n  <head>\\n    <meta charset=\"utf-8\">\\n  <link rel=\"dns-prefetch\" href=\"https://github.githubassets.com\">\\n  <link rel=\"dns-prefetch\" href=\"https://avatars.githubusercontent.com\">\\n  <link rel=\"dns-prefetch\" href=\"https://github-cloud.s3.amazonaws.com\">\\n  <link rel=\"dns-prefetch\" href=\"https://user-images.githubusercontent.com/\">\\n  <link rel=\"preconnect\" href=\"https://github.githubassets.com\" crossorigin>\\n  <link rel=\"preconnect\" href=\"https://avatars.githubusercontent.com\">\\n\\n\\n\\n  <link crossorigin=\"anonymous\" media=\"all\" integrity=\"sha512-E9wnWjoxQmh5A1jiWVYDPKOvA8VPf0iKQYoc+9ycMJvtAi9gOSlaUci+W2smxFIlWkV8hkX+O27S8NIB59iIDw==\" rel=\"stylesheet\" href=\"https://github.githubassets.com/assets/light-13dc275a3a314268790358e25956033c.css\" /><link crossorigin=\"anonymous\" media=\"all\" integrity=\"sha512-nYSv3KrFhMlGUpjkFQBLMEN6HvHhijcoubQLjV3DWlcABEi2yDYf6KGUjRubJ5R+dJnKXR7jA4wu5Dg200SApA==\" rel=\"s'"
      ]
     },
     "execution_count": 6,
     "metadata": {},
     "output_type": "execute_result"
    }
   ],
   "source": [
    "page_content=response.text\n",
    "page_content[1:1000]\n"
   ]
  },
  {
   "cell_type": "code",
   "execution_count": 8,
   "id": "2e30c8e4",
   "metadata": {},
   "outputs": [],
   "source": [
    "#imporrting beautifulsoup\n",
    "from bs4 import BeautifulSoup"
   ]
  },
  {
   "cell_type": "code",
   "execution_count": 9,
   "id": "2ba7ee55",
   "metadata": {},
   "outputs": [],
   "source": [
    "#parse the data\n",
    "data=BeautifulSoup(page_content,'html.parser')\n",
    "# print(data.prettify())"
   ]
  },
  {
   "cell_type": "code",
   "execution_count": 10,
   "id": "1b446578",
   "metadata": {},
   "outputs": [
    {
     "data": {
      "text/plain": [
       "['3D',\n",
       " 'Ajax',\n",
       " 'Algorithm',\n",
       " 'Amp',\n",
       " 'Android',\n",
       " 'Angular',\n",
       " 'Ansible',\n",
       " 'API',\n",
       " 'Arduino',\n",
       " 'ASP.NET',\n",
       " 'Atom',\n",
       " 'Awesome Lists',\n",
       " 'Amazon Web Services',\n",
       " 'Azure',\n",
       " 'Babel',\n",
       " 'Bash',\n",
       " 'Bitcoin',\n",
       " 'Bootstrap',\n",
       " 'Bot',\n",
       " 'C',\n",
       " 'Chrome',\n",
       " 'Chrome extension',\n",
       " 'Command line interface',\n",
       " 'Clojure',\n",
       " 'Code quality',\n",
       " 'Code review',\n",
       " 'Compiler',\n",
       " 'Continuous integration',\n",
       " 'COVID-19',\n",
       " 'C++']"
      ]
     },
     "execution_count": 10,
     "metadata": {},
     "output_type": "execute_result"
    }
   ],
   "source": [
    "#find topic name\n",
    "topic=data.find_all(\"p\",class_=\"f3 lh-condensed mb-0 mt-1 Link--primary\")\n",
    "\n",
    "topic_name=[]\n",
    "for i in topic:\n",
    "    i=i.get_text()\n",
    "    topic_name.append(i)\n",
    "topic_name"
   ]
  },
  {
   "cell_type": "code",
   "execution_count": 11,
   "id": "3e33eaa7",
   "metadata": {},
   "outputs": [
    {
     "name": "stdout",
     "output_type": "stream",
     "text": [
      "['3D modeling is the process of virtually developing the surface and structure of a 3D object.', 'Ajax is a technique for creating interactive web applications.', 'Algorithms are self-contained sequences that carry out a variety of tasks.', 'Amp is a non-blocking concurrency framework for PHP.', 'Android is an operating system built by Google designed for mobile devices.', 'Angular is an open source web application platform.', 'Ansible is a simple and powerful automation engine.', 'An API (Application Programming Interface) is a collection of protocols and subroutines for building software.', 'Arduino is an open source hardware and software company and maker community.', 'ASP.NET is a web framework for building modern web apps and services.', 'Atom is a open source text editor built with web technologies.', 'An awesome list is a list of awesome things curated by the community.', 'Amazon Web Services provides on-demand cloud computing platforms on a subscription basis.', 'Azure is a cloud computing service created by Microsoft.', 'Babel is a compiler for writing next generation JavaScript, today.', 'Bash is a shell and command language interpreter for the GNU operating system.', 'Bitcoin is a cryptocurrency developed by Satoshi Nakamoto.', 'Bootstrap is an HTML, CSS, and JavaScript framework.', 'A bot is an application that runs automated tasks over the Internet.', 'C is a general purpose programming language that first appeared in 1972.', 'Chrome is a web browser from the tech company Google.', 'Google Chrome Extensions are add-ons that allow users to customize their Chrome web browser.', 'A CLI, or command-line interface, is a console that helps users issue commands to a program.', 'Clojure is a dynamic, general-purpose programming language.', 'Automate your code review with style, quality, security, and test‑coverage checks when you need them.', 'Ensure your code meets quality standards and ship with confidence.', 'Compilers are software that translate higher-level programming languages to lower-level languages (e.g. machine code).', 'Automatically build and test your code as you push it upstream, preventing bugs from being deployed to production.', 'The coronavirus disease 2019 (COVID-19) is an infectious disease caused by SARS-CoV-2.', 'C++ is a general purpose and object-oriented programming language.']\n"
     ]
    }
   ],
   "source": [
    "#find the topic description\n",
    "description=data.find_all('p',class_=\"f5 color-fg-muted mb-0 mt-1\")\n",
    "\n",
    "topic_description=[]\n",
    "for i in description :\n",
    "    i=i.text.strip()\n",
    "    topic_description.append(i)\n",
    "print(topic_description)\n"
   ]
  },
  {
   "cell_type": "code",
   "execution_count": 12,
   "id": "208a4ff6",
   "metadata": {},
   "outputs": [
    {
     "name": "stdout",
     "output_type": "stream",
     "text": [
      "['https://github.com//topics/3d', 'https://github.com//topics/ajax', 'https://github.com//topics/algorithm', 'https://github.com//topics/amphp', 'https://github.com//topics/android', 'https://github.com//topics/angular', 'https://github.com//topics/ansible', 'https://github.com//topics/api', 'https://github.com//topics/arduino', 'https://github.com//topics/aspnet', 'https://github.com//topics/atom', 'https://github.com//topics/awesome', 'https://github.com//topics/aws', 'https://github.com//topics/azure', 'https://github.com//topics/babel', 'https://github.com//topics/bash', 'https://github.com//topics/bitcoin', 'https://github.com//topics/bootstrap', 'https://github.com//topics/bot', 'https://github.com//topics/c', 'https://github.com//topics/chrome', 'https://github.com//topics/chrome-extension', 'https://github.com//topics/cli', 'https://github.com//topics/clojure', 'https://github.com//topics/code-quality', 'https://github.com//topics/code-review', 'https://github.com//topics/compiler', 'https://github.com//topics/continuous-integration', 'https://github.com//topics/covid-19', 'https://github.com//topics/cpp']\n"
     ]
    }
   ],
   "source": [
    "#finding url\n",
    "\n",
    "url=data.find_all('a',class_=\"no-underline flex-1 d-flex flex-column\")\n",
    "topic_url=[]\n",
    "for i in url:\n",
    "    i='https://github.com/'+ i.get('href')\n",
    "    topic_url.append(i)\n",
    "\n",
    "print(topic_url)"
   ]
  },
  {
   "cell_type": "code",
   "execution_count": 13,
   "id": "b19e622d",
   "metadata": {},
   "outputs": [],
   "source": [
    "#converting data into dataframe\n",
    "import pandas as pd\n",
    "data=pd.DataFrame({'topic_name':topic_name,'topic_description':topic_description,'topic_url':topic_url})"
   ]
  },
  {
   "cell_type": "code",
   "execution_count": 14,
   "id": "ea451c26",
   "metadata": {},
   "outputs": [
    {
     "data": {
      "text/html": [
       "<div>\n",
       "<style scoped>\n",
       "    .dataframe tbody tr th:only-of-type {\n",
       "        vertical-align: middle;\n",
       "    }\n",
       "\n",
       "    .dataframe tbody tr th {\n",
       "        vertical-align: top;\n",
       "    }\n",
       "\n",
       "    .dataframe thead th {\n",
       "        text-align: right;\n",
       "    }\n",
       "</style>\n",
       "<table border=\"1\" class=\"dataframe\">\n",
       "  <thead>\n",
       "    <tr style=\"text-align: right;\">\n",
       "      <th></th>\n",
       "      <th>topic_name</th>\n",
       "      <th>topic_description</th>\n",
       "      <th>topic_url</th>\n",
       "    </tr>\n",
       "  </thead>\n",
       "  <tbody>\n",
       "    <tr>\n",
       "      <th>0</th>\n",
       "      <td>3D</td>\n",
       "      <td>3D modeling is the process of virtually develo...</td>\n",
       "      <td>https://github.com//topics/3d</td>\n",
       "    </tr>\n",
       "    <tr>\n",
       "      <th>1</th>\n",
       "      <td>Ajax</td>\n",
       "      <td>Ajax is a technique for creating interactive w...</td>\n",
       "      <td>https://github.com//topics/ajax</td>\n",
       "    </tr>\n",
       "    <tr>\n",
       "      <th>2</th>\n",
       "      <td>Algorithm</td>\n",
       "      <td>Algorithms are self-contained sequences that c...</td>\n",
       "      <td>https://github.com//topics/algorithm</td>\n",
       "    </tr>\n",
       "    <tr>\n",
       "      <th>3</th>\n",
       "      <td>Amp</td>\n",
       "      <td>Amp is a non-blocking concurrency framework fo...</td>\n",
       "      <td>https://github.com//topics/amphp</td>\n",
       "    </tr>\n",
       "    <tr>\n",
       "      <th>4</th>\n",
       "      <td>Android</td>\n",
       "      <td>Android is an operating system built by Google...</td>\n",
       "      <td>https://github.com//topics/android</td>\n",
       "    </tr>\n",
       "  </tbody>\n",
       "</table>\n",
       "</div>"
      ],
      "text/plain": [
       "  topic_name                                  topic_description  \\\n",
       "0         3D  3D modeling is the process of virtually develo...   \n",
       "1       Ajax  Ajax is a technique for creating interactive w...   \n",
       "2  Algorithm  Algorithms are self-contained sequences that c...   \n",
       "3        Amp  Amp is a non-blocking concurrency framework fo...   \n",
       "4    Android  Android is an operating system built by Google...   \n",
       "\n",
       "                              topic_url  \n",
       "0         https://github.com//topics/3d  \n",
       "1       https://github.com//topics/ajax  \n",
       "2  https://github.com//topics/algorithm  \n",
       "3      https://github.com//topics/amphp  \n",
       "4    https://github.com//topics/android  "
      ]
     },
     "execution_count": 14,
     "metadata": {},
     "output_type": "execute_result"
    }
   ],
   "source": [
    "data.head()"
   ]
  },
  {
   "cell_type": "code",
   "execution_count": 15,
   "id": "e563d95b",
   "metadata": {},
   "outputs": [],
   "source": [
    "#converting file into csv format  \n",
    "data.to_csv(\"topic_github.csv\",index=False)"
   ]
  },
  {
   "cell_type": "code",
   "execution_count": 16,
   "id": "f664b8f5",
   "metadata": {},
   "outputs": [
    {
     "data": {
      "text/html": [
       "<div>\n",
       "<style scoped>\n",
       "    .dataframe tbody tr th:only-of-type {\n",
       "        vertical-align: middle;\n",
       "    }\n",
       "\n",
       "    .dataframe tbody tr th {\n",
       "        vertical-align: top;\n",
       "    }\n",
       "\n",
       "    .dataframe thead th {\n",
       "        text-align: right;\n",
       "    }\n",
       "</style>\n",
       "<table border=\"1\" class=\"dataframe\">\n",
       "  <thead>\n",
       "    <tr style=\"text-align: right;\">\n",
       "      <th></th>\n",
       "      <th>topic_name</th>\n",
       "      <th>topic_description</th>\n",
       "      <th>topic_url</th>\n",
       "    </tr>\n",
       "  </thead>\n",
       "  <tbody>\n",
       "    <tr>\n",
       "      <th>0</th>\n",
       "      <td>3D</td>\n",
       "      <td>3D modeling is the process of virtually develo...</td>\n",
       "      <td>https://github.com//topics/3d</td>\n",
       "    </tr>\n",
       "    <tr>\n",
       "      <th>1</th>\n",
       "      <td>Ajax</td>\n",
       "      <td>Ajax is a technique for creating interactive w...</td>\n",
       "      <td>https://github.com//topics/ajax</td>\n",
       "    </tr>\n",
       "    <tr>\n",
       "      <th>2</th>\n",
       "      <td>Algorithm</td>\n",
       "      <td>Algorithms are self-contained sequences that c...</td>\n",
       "      <td>https://github.com//topics/algorithm</td>\n",
       "    </tr>\n",
       "    <tr>\n",
       "      <th>3</th>\n",
       "      <td>Amp</td>\n",
       "      <td>Amp is a non-blocking concurrency framework fo...</td>\n",
       "      <td>https://github.com//topics/amphp</td>\n",
       "    </tr>\n",
       "    <tr>\n",
       "      <th>4</th>\n",
       "      <td>Android</td>\n",
       "      <td>Android is an operating system built by Google...</td>\n",
       "      <td>https://github.com//topics/android</td>\n",
       "    </tr>\n",
       "    <tr>\n",
       "      <th>5</th>\n",
       "      <td>Angular</td>\n",
       "      <td>Angular is an open source web application plat...</td>\n",
       "      <td>https://github.com//topics/angular</td>\n",
       "    </tr>\n",
       "    <tr>\n",
       "      <th>6</th>\n",
       "      <td>Ansible</td>\n",
       "      <td>Ansible is a simple and powerful automation en...</td>\n",
       "      <td>https://github.com//topics/ansible</td>\n",
       "    </tr>\n",
       "    <tr>\n",
       "      <th>7</th>\n",
       "      <td>API</td>\n",
       "      <td>An API (Application Programming Interface) is ...</td>\n",
       "      <td>https://github.com//topics/api</td>\n",
       "    </tr>\n",
       "    <tr>\n",
       "      <th>8</th>\n",
       "      <td>Arduino</td>\n",
       "      <td>Arduino is an open source hardware and softwar...</td>\n",
       "      <td>https://github.com//topics/arduino</td>\n",
       "    </tr>\n",
       "    <tr>\n",
       "      <th>9</th>\n",
       "      <td>ASP.NET</td>\n",
       "      <td>ASP.NET is a web framework for building modern...</td>\n",
       "      <td>https://github.com//topics/aspnet</td>\n",
       "    </tr>\n",
       "    <tr>\n",
       "      <th>10</th>\n",
       "      <td>Atom</td>\n",
       "      <td>Atom is a open source text editor built with w...</td>\n",
       "      <td>https://github.com//topics/atom</td>\n",
       "    </tr>\n",
       "    <tr>\n",
       "      <th>11</th>\n",
       "      <td>Awesome Lists</td>\n",
       "      <td>An awesome list is a list of awesome things cu...</td>\n",
       "      <td>https://github.com//topics/awesome</td>\n",
       "    </tr>\n",
       "    <tr>\n",
       "      <th>12</th>\n",
       "      <td>Amazon Web Services</td>\n",
       "      <td>Amazon Web Services provides on-demand cloud c...</td>\n",
       "      <td>https://github.com//topics/aws</td>\n",
       "    </tr>\n",
       "    <tr>\n",
       "      <th>13</th>\n",
       "      <td>Azure</td>\n",
       "      <td>Azure is a cloud computing service created by ...</td>\n",
       "      <td>https://github.com//topics/azure</td>\n",
       "    </tr>\n",
       "    <tr>\n",
       "      <th>14</th>\n",
       "      <td>Babel</td>\n",
       "      <td>Babel is a compiler for writing next generatio...</td>\n",
       "      <td>https://github.com//topics/babel</td>\n",
       "    </tr>\n",
       "    <tr>\n",
       "      <th>15</th>\n",
       "      <td>Bash</td>\n",
       "      <td>Bash is a shell and command language interpret...</td>\n",
       "      <td>https://github.com//topics/bash</td>\n",
       "    </tr>\n",
       "    <tr>\n",
       "      <th>16</th>\n",
       "      <td>Bitcoin</td>\n",
       "      <td>Bitcoin is a cryptocurrency developed by Satos...</td>\n",
       "      <td>https://github.com//topics/bitcoin</td>\n",
       "    </tr>\n",
       "    <tr>\n",
       "      <th>17</th>\n",
       "      <td>Bootstrap</td>\n",
       "      <td>Bootstrap is an HTML, CSS, and JavaScript fram...</td>\n",
       "      <td>https://github.com//topics/bootstrap</td>\n",
       "    </tr>\n",
       "    <tr>\n",
       "      <th>18</th>\n",
       "      <td>Bot</td>\n",
       "      <td>A bot is an application that runs automated ta...</td>\n",
       "      <td>https://github.com//topics/bot</td>\n",
       "    </tr>\n",
       "    <tr>\n",
       "      <th>19</th>\n",
       "      <td>C</td>\n",
       "      <td>C is a general purpose programming language th...</td>\n",
       "      <td>https://github.com//topics/c</td>\n",
       "    </tr>\n",
       "    <tr>\n",
       "      <th>20</th>\n",
       "      <td>Chrome</td>\n",
       "      <td>Chrome is a web browser from the tech company ...</td>\n",
       "      <td>https://github.com//topics/chrome</td>\n",
       "    </tr>\n",
       "    <tr>\n",
       "      <th>21</th>\n",
       "      <td>Chrome extension</td>\n",
       "      <td>Google Chrome Extensions are add-ons that allo...</td>\n",
       "      <td>https://github.com//topics/chrome-extension</td>\n",
       "    </tr>\n",
       "    <tr>\n",
       "      <th>22</th>\n",
       "      <td>Command line interface</td>\n",
       "      <td>A CLI, or command-line interface, is a console...</td>\n",
       "      <td>https://github.com//topics/cli</td>\n",
       "    </tr>\n",
       "    <tr>\n",
       "      <th>23</th>\n",
       "      <td>Clojure</td>\n",
       "      <td>Clojure is a dynamic, general-purpose programm...</td>\n",
       "      <td>https://github.com//topics/clojure</td>\n",
       "    </tr>\n",
       "    <tr>\n",
       "      <th>24</th>\n",
       "      <td>Code quality</td>\n",
       "      <td>Automate your code review with style, quality,...</td>\n",
       "      <td>https://github.com//topics/code-quality</td>\n",
       "    </tr>\n",
       "    <tr>\n",
       "      <th>25</th>\n",
       "      <td>Code review</td>\n",
       "      <td>Ensure your code meets quality standards and s...</td>\n",
       "      <td>https://github.com//topics/code-review</td>\n",
       "    </tr>\n",
       "    <tr>\n",
       "      <th>26</th>\n",
       "      <td>Compiler</td>\n",
       "      <td>Compilers are software that translate higher-l...</td>\n",
       "      <td>https://github.com//topics/compiler</td>\n",
       "    </tr>\n",
       "    <tr>\n",
       "      <th>27</th>\n",
       "      <td>Continuous integration</td>\n",
       "      <td>Automatically build and test your code as you ...</td>\n",
       "      <td>https://github.com//topics/continuous-integration</td>\n",
       "    </tr>\n",
       "    <tr>\n",
       "      <th>28</th>\n",
       "      <td>COVID-19</td>\n",
       "      <td>The coronavirus disease 2019 (COVID-19) is an ...</td>\n",
       "      <td>https://github.com//topics/covid-19</td>\n",
       "    </tr>\n",
       "    <tr>\n",
       "      <th>29</th>\n",
       "      <td>C++</td>\n",
       "      <td>C++ is a general purpose and object-oriented p...</td>\n",
       "      <td>https://github.com//topics/cpp</td>\n",
       "    </tr>\n",
       "  </tbody>\n",
       "</table>\n",
       "</div>"
      ],
      "text/plain": [
       "                topic_name                                  topic_description  \\\n",
       "0                       3D  3D modeling is the process of virtually develo...   \n",
       "1                     Ajax  Ajax is a technique for creating interactive w...   \n",
       "2                Algorithm  Algorithms are self-contained sequences that c...   \n",
       "3                      Amp  Amp is a non-blocking concurrency framework fo...   \n",
       "4                  Android  Android is an operating system built by Google...   \n",
       "5                  Angular  Angular is an open source web application plat...   \n",
       "6                  Ansible  Ansible is a simple and powerful automation en...   \n",
       "7                      API  An API (Application Programming Interface) is ...   \n",
       "8                  Arduino  Arduino is an open source hardware and softwar...   \n",
       "9                  ASP.NET  ASP.NET is a web framework for building modern...   \n",
       "10                    Atom  Atom is a open source text editor built with w...   \n",
       "11           Awesome Lists  An awesome list is a list of awesome things cu...   \n",
       "12     Amazon Web Services  Amazon Web Services provides on-demand cloud c...   \n",
       "13                   Azure  Azure is a cloud computing service created by ...   \n",
       "14                   Babel  Babel is a compiler for writing next generatio...   \n",
       "15                    Bash  Bash is a shell and command language interpret...   \n",
       "16                 Bitcoin  Bitcoin is a cryptocurrency developed by Satos...   \n",
       "17               Bootstrap  Bootstrap is an HTML, CSS, and JavaScript fram...   \n",
       "18                     Bot  A bot is an application that runs automated ta...   \n",
       "19                       C  C is a general purpose programming language th...   \n",
       "20                  Chrome  Chrome is a web browser from the tech company ...   \n",
       "21        Chrome extension  Google Chrome Extensions are add-ons that allo...   \n",
       "22  Command line interface  A CLI, or command-line interface, is a console...   \n",
       "23                 Clojure  Clojure is a dynamic, general-purpose programm...   \n",
       "24            Code quality  Automate your code review with style, quality,...   \n",
       "25             Code review  Ensure your code meets quality standards and s...   \n",
       "26                Compiler  Compilers are software that translate higher-l...   \n",
       "27  Continuous integration  Automatically build and test your code as you ...   \n",
       "28                COVID-19  The coronavirus disease 2019 (COVID-19) is an ...   \n",
       "29                     C++  C++ is a general purpose and object-oriented p...   \n",
       "\n",
       "                                            topic_url  \n",
       "0                       https://github.com//topics/3d  \n",
       "1                     https://github.com//topics/ajax  \n",
       "2                https://github.com//topics/algorithm  \n",
       "3                    https://github.com//topics/amphp  \n",
       "4                  https://github.com//topics/android  \n",
       "5                  https://github.com//topics/angular  \n",
       "6                  https://github.com//topics/ansible  \n",
       "7                      https://github.com//topics/api  \n",
       "8                  https://github.com//topics/arduino  \n",
       "9                   https://github.com//topics/aspnet  \n",
       "10                    https://github.com//topics/atom  \n",
       "11                 https://github.com//topics/awesome  \n",
       "12                     https://github.com//topics/aws  \n",
       "13                   https://github.com//topics/azure  \n",
       "14                   https://github.com//topics/babel  \n",
       "15                    https://github.com//topics/bash  \n",
       "16                 https://github.com//topics/bitcoin  \n",
       "17               https://github.com//topics/bootstrap  \n",
       "18                     https://github.com//topics/bot  \n",
       "19                       https://github.com//topics/c  \n",
       "20                  https://github.com//topics/chrome  \n",
       "21        https://github.com//topics/chrome-extension  \n",
       "22                     https://github.com//topics/cli  \n",
       "23                 https://github.com//topics/clojure  \n",
       "24            https://github.com//topics/code-quality  \n",
       "25             https://github.com//topics/code-review  \n",
       "26                https://github.com//topics/compiler  \n",
       "27  https://github.com//topics/continuous-integration  \n",
       "28                https://github.com//topics/covid-19  \n",
       "29                     https://github.com//topics/cpp  "
      ]
     },
     "execution_count": 16,
     "metadata": {},
     "output_type": "execute_result"
    }
   ],
   "source": [
    "pd.read_csv(\"topic_github.csv\")"
   ]
  },
  {
   "cell_type": "markdown",
   "id": "b6db9829",
   "metadata": {},
   "source": [
    "# Getting information out of a topic Page"
   ]
  },
  {
   "cell_type": "code",
   "execution_count": 17,
   "id": "f78655b1",
   "metadata": {},
   "outputs": [],
   "source": [
    "# for url in topic_url:\n",
    "response=requests.get(topic_url[0])\n",
    "content=response.text\n",
    "text=BeautifulSoup(content,'html.parser')\n",
    "\n"
   ]
  },
  {
   "cell_type": "code",
   "execution_count": 32,
   "id": "9223449e",
   "metadata": {},
   "outputs": [],
   "source": [
    "j=0\n",
    "for i in topic_url:\n",
    "    response=requests.get(i)\n",
    "    if response.status_code!=200:\n",
    "        raise Exception (\"Error in loading page\")\n",
    "    else:\n",
    "        content=response.text\n",
    "        text=BeautifulSoup(content,'html.parser')\n",
    "\n",
    "\n",
    "        def topic_name_repo(text):\n",
    "\n",
    "            h_tag=text.find_all('h3',class_='f3 color-fg-muted text-normal lh-condensed')\n",
    "            user_name=[]\n",
    "            repo_name=[]\n",
    "            for i in range(0,len(h_tag)):\n",
    "                a_tag=h_tag[i].find_all('a')\n",
    "                username=a_tag[0].text.strip()\n",
    "                reponame=a_tag[1].text.strip()\n",
    "                user_name.append(username)\n",
    "                repo_name.append(reponame)\n",
    "            return  user_name,repo_name\n",
    "        name_repo=topic_name_repo(text)\n",
    "        user_name=name_repo[0]\n",
    "        reposit_name=name_repo[1]\n",
    "        \n",
    "\n",
    "        def repo_url(text):\n",
    "            h_tag=text.find_all('h3',class_='f3 color-fg-muted text-normal lh-condensed')\n",
    "            repo_url=[]\n",
    "            for i in range(0,len(h_tag)):\n",
    "                a_tag=h_tag[i].find_all('a')\n",
    "                repourl=a_tag[1].get('href')\n",
    "                repo_url.append(repourl)\n",
    "            return repo_url\n",
    "        reposit_url=repo_url(text)\n",
    "        \n",
    "        \n",
    "\n",
    "\n",
    "        def topic_star(text):\n",
    "            span_tag=text.find_all('span',id=\"repo-stars-counter-star\")\n",
    "            star=[]\n",
    "            for i in range(0,len(span_tag)):\n",
    "                star_k=span_tag[i].text\n",
    "                if star_k[-1]=='k':\n",
    "                    star_k=int(float(star_k[:-1])*1000)\n",
    "                    star.append(star_k)\n",
    "            return star\n",
    "        star=topic_star(text)\n",
    "        \n",
    "        \n",
    "        if len(user_name)==len(reposit_name) and len(user_name)==len(star):\n",
    "\n",
    "            data=pd.DataFrame({'user_name':user_name,'reposit_name':reposit_name,'reposit_url':reposit_url,'star':star})\n",
    "            \n",
    "          \n",
    "            for i in range(0,1):\n",
    "                file_name=\"{}.csv\".format(topic_name[j])\n",
    "                data.to_csv(file_name,index=False)\n",
    "            j=j+1\n",
    "           \n",
    "\n"
   ]
  },
  {
   "cell_type": "code",
   "execution_count": null,
   "id": "e9318cb0",
   "metadata": {},
   "outputs": [],
   "source": []
  },
  {
   "cell_type": "code",
   "execution_count": null,
   "id": "4e46f484",
   "metadata": {},
   "outputs": [],
   "source": []
  },
  {
   "cell_type": "code",
   "execution_count": null,
   "id": "646b43f7",
   "metadata": {},
   "outputs": [],
   "source": []
  }
 ],
 "metadata": {
  "kernelspec": {
   "display_name": "Python 3 (ipykernel)",
   "language": "python",
   "name": "python3"
  },
  "language_info": {
   "codemirror_mode": {
    "name": "ipython",
    "version": 3
   },
   "file_extension": ".py",
   "mimetype": "text/x-python",
   "name": "python",
   "nbconvert_exporter": "python",
   "pygments_lexer": "ipython3",
   "version": "3.11.3"
  }
 },
 "nbformat": 4,
 "nbformat_minor": 5
}
